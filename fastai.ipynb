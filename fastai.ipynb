{
 "cells": [
  {
   "cell_type": "code",
   "execution_count": null,
   "metadata": {},
   "outputs": [],
   "source": [
    "import os\n",
    "import gc\n",
    "import sys\n",
    "import math\n",
    "import time\n",
    "import random\n",
    "import shutil\n",
    "import seaborn as sns\n",
    "import pickle\n",
    "from pathlib import Path\n",
    "from contextlib import contextmanager\n",
    "from collections import defaultdict, Counter\n",
    "import fastai\n",
    "import torchvision.models as torch_models\n",
    "\n",
    "import scipy as sp\n",
    "import numpy as np\n",
    "import pandas as pd\n",
    "\n",
    "from sklearn import preprocessing\n",
    "from sklearn.metrics import mean_squared_error\n",
    "from sklearn.model_selection import StratifiedKFold, GroupKFold, KFold\n",
    "\n",
    "from tqdm.auto import tqdm\n",
    "from functools import partial\n",
    "\n",
    "import cv2\n",
    "from PIL import Image\n",
    "from IPython.core.display import display\n",
    "import matplotlib.pyplot as plt\n",
    "\n",
    "import torch\n",
    "import torch.nn as nn\n",
    "import torch.nn.functional as F\n",
    "from torch.optim import Adam, SGD\n",
    "import torchvision.models as models\n",
    "from torch.nn.parameter import Parameter\n",
    "from torch.utils.data import DataLoader, Dataset\n",
    "from torch.optim.lr_scheduler import CosineAnnealingWarmRestarts, CosineAnnealingLR, ReduceLROnPlateau\n",
    "\n",
    "import albumentations as transforms\n",
    "from albumentations.pytorch import ToTensorV2\n",
    "from albumentations import ImageOnlyTransform\n",
    "from fastai.vision.all import *\n",
    "\n",
    "sys.path.append('../input/pytorch-image-models/pytorch-image-models-master')\n",
    "import timm\n",
    "import lightgbm as lgb\n",
    "\n",
    "from torch.cuda.amp import autocast, GradScaler\n",
    "\n",
    "import warnings\n",
    "warnings.filterwarnings('ignore')\n",
    "torch.backends.cudnn.benchmark = True\n",
    "\n",
    "device = torch.device('cuda' if torch.cuda.is_available() else 'cpu')\n",
    "\n",
    "OUTPUT_DIR = './my_model/'\n",
    "if not os.path.exists(OUTPUT_DIR):\n",
    "    os.makedirs(OUTPUT_DIR)\n",
    "\n"
   ]
  },
  {
   "cell_type": "code",
   "execution_count": null,
   "metadata": {},
   "outputs": [],
   "source": [
    "print(fastai.__version__)\n",
    "print(device)"
   ]
  },
  {
   "cell_type": "code",
   "execution_count": null,
   "metadata": {},
   "outputs": [],
   "source": [
    "class CFG:\n",
    "    apex=False\n",
    "    print_freq=10\n",
    "    num_workers=4\n",
    "    size=384 ##モデルによって変える。\n",
    "    model_name='vit_base_patch16_384' ##モデルによって変える\n",
    "    scheduler='CosineAnnealingLR' # ['ReduceLROnPlateau', 'CosineAnnealingLR', 'CosineAnnealingWarmRestarts']\n",
    "    epochs=3\n",
    "    T_max=3 # CosineAnnealingLR\n",
    "    lr=1e-4\n",
    "    min_lr=1e-6\n",
    "    batch_size=16\n",
    "    weight_decay=1e-6\n",
    "    gradient_accumulation_steps=1\n",
    "    max_grad_norm=1000\n",
    "    seed=42\n",
    "    target_size=1\n",
    "    target_col='Pawpularity'\n",
    "    n_fold=2\n",
    "    trn_fold=[0, 1]\n",
    "    train=True\n",
    "    grad_cam=True\n",
    "    isTransFormer = True ##モデルによって変える\n",
    "    DEBUG = True\n"
   ]
  },
  {
   "cell_type": "code",
   "execution_count": null,
   "metadata": {},
   "outputs": [],
   "source": [
    "test = pd.read_csv('../input/petfinder-pawpularity-score/test.csv')\n",
    "train = pd.read_csv('../input/petfinder-pawpularity-score/train.csv')\n",
    "train['image_id'] = 'train/' + train['Id'] + '.jpg'\n",
    "test['image_id'] = 'test/' + test['Id'] + '.jpg'\n",
    "train.head()\n",
    "if CFG.DEBUG:\n",
    "    CFG.epochs = 1\n",
    "    train = train.sample(n=1000, random_state=CFG.seed).reset_index(drop=True)"
   ]
  },
  {
   "cell_type": "code",
   "execution_count": null,
   "metadata": {},
   "outputs": [],
   "source": [
    "num_bins = int(np.floor(1+np.log2(len(train))))\n",
    "train[\"bins\"] = pd.cut(train[CFG.target_col], bins=num_bins, labels=False)\n",
    "Fold = StratifiedKFold(n_splits=CFG.n_fold, shuffle=True, random_state=CFG.seed)\n",
    "for n, (train_index, val_index) in enumerate(Fold.split(train, train[\"bins\"])):\n",
    "    train.loc[val_index, 'fold'] = int(n)\n",
    "train['fold'] = train['fold'].astype(int)\n",
    "display(train.groupby(['fold', \"bins\"]).size())\n",
    "train.to_pickle(OUTPUT_DIR+'train.pkl')"
   ]
  },
  {
   "cell_type": "code",
   "execution_count": null,
   "metadata": {},
   "outputs": [],
   "source": [
    "train.Pawpularity=train.Pawpularity.astype('float')"
   ]
  },
  {
   "cell_type": "code",
   "execution_count": null,
   "metadata": {},
   "outputs": [],
   "source": [
    "def petfinder_rmse(input,target):\n",
    "    return 100*torch.sqrt(F.mse_loss(F.sigmoid(input.flatten()), target))\n",
    "def run_fold(fold = CFG.n_fold, seed = CFG.seed, verbose = True):\n",
    "    print(f'Run with validation set = fold no. {fold}')\n",
    "    \n",
    "    # mark validation set\n",
    "    train['is_demo_valid'] = False\n",
    "    train.loc[train[f'kfold_{seed}'] == fold, 'is_demo_valid'] = True\n",
    "\n",
    "    # define fastai dataloader\n",
    "    dls = ImageDataLoaders.from_df(df =  train[['image_id', 'Pawpularity', 'is_demo_valid']], \n",
    "                                   path = '.', \n",
    "                                   folder = '../input/petfinder-pawpularity-score', \n",
    "                                   valid_col = 'is_demo_valid',\n",
    "                                   y_block=RegressionBlock,\n",
    "                                   item_tfms=CropPad(512), \n",
    "                                   batch_tfms=aug_transforms(size=224), \n",
    "                                   bs = CFG.batch_size)\n",
    "    \n",
    "    if verbose:\n",
    "        dls.show_batch()\n",
    "    if CFG.isTransFormer:\n",
    "        model = timm.create_model('swin_large_patch4_window7_224', num_classes=dls.c)\n",
    "        learn = Learner(dls, model, loss_func=BCEWithLogitsLossFlat(), metrics=AccumMetric(petfinder_rmse)).to_fp16()\n",
    "    else:\n",
    "        learn = cnn_learner(dls, \n",
    "                        torch_models.CFG.model_name, \n",
    "                        metrics=[rmse],\n",
    "                        y_range= (torch.Tensor([1,100]))\n",
    "                       )\n",
    "    \n",
    "    if CFG.DEBUG:\n",
    "        # mixed precision training\n",
    "        learn = learn.to_fp16()\n",
    "    \n",
    "    if verbose:\n",
    "        learn.lr_find()\n",
    "     \n",
    "    learn.fine_tune(CFG.epochs, 1e-3, cbs=[MixUp(.4), CutMix()]) #\n",
    "    oof_preds,_ = learn.get_preds()\n",
    "    \n",
    "    train.loc[train[train[f'kfold_{seed}']==fold].index,'oof'] = oof_preds\n",
    "    score = mean_squared_error(train[train[f'kfold_{seed}']==fold]['Pawpularity'], train[train[f'kfold_{seed}']==fold]['oof'], squared = False)\n",
    "    print(f\"{score}:0.5f\")\n",
    "    wandb.log({f\"[fold{fold}] score\": score})\n",
    "    if verbose:\n",
    "        learn.show_results()\n",
    "        \n",
    "    learn.export(f'export_fold_{fold}.pkl')\n",
    "    \n",
    "        \n",
    "    return learn"
   ]
  },
  {
   "cell_type": "code",
   "execution_count": null,
   "metadata": {},
   "outputs": [],
   "source": [
    "for f in range(CFG.n_fold):\n",
    "    learn = run_fold(f, seed = CFG.seed, verbose = False)"
   ]
  },
  {
   "cell_type": "code",
   "execution_count": null,
   "metadata": {},
   "outputs": [],
   "source": [
    "print(f\"rmse: {mean_squared_error(train['Pawpularity'], train['oof'], squared = False):0.5f}\")"
   ]
  },
  {
   "cell_type": "code",
   "execution_count": null,
   "metadata": {},
   "outputs": [],
   "source": [
    "train.to_csv('train_plus.csv',index=False)"
   ]
  },
  {
   "cell_type": "markdown",
   "metadata": {},
   "source": [
    "# interface"
   ]
  },
  {
   "cell_type": "code",
   "execution_count": null,
   "metadata": {},
   "outputs": [],
   "source": [
    "submission = pd.read_csv('../input/petfinder-pawpularity-score/sample_submission.csv')\n",
    "\n",
    "test = submission.copy()\n",
    "\n",
    "test['Id'] = 'test/' + test['Id'] + '.jpg'\n",
    "test.head()"
   ]
  },
  {
   "cell_type": "code",
   "execution_count": null,
   "metadata": {},
   "outputs": [],
   "source": [
    "def inf_run(fold):\n",
    "    learn = load_learner(fname = Path(f'../input/petfinder2021-fastai-train/export_fold_{fold}.pkl'), cpu=False)\n",
    "    test_dl = learn.dls.test_dl(test)\n",
    "    preds, _ = learn.get_preds(dl=test_dl) # tta\n",
    "    \n",
    "    return preds"
   ]
  },
  {
   "cell_type": "code",
   "execution_count": null,
   "metadata": {},
   "outputs": [],
   "source": [
    "submission['Pawpularity'] = 0\n",
    "\n",
    "for fold in range(CFG.n_fold):\n",
    "    preds = inf_run(fold)\n",
    "    test[f'preds_{fold}'] = preds.numpy()[:,0]"
   ]
  },
  {
   "cell_type": "code",
   "execution_count": null,
   "metadata": {},
   "outputs": [],
   "source": [
    "test.head()"
   ]
  },
  {
   "cell_type": "code",
   "execution_count": null,
   "metadata": {},
   "outputs": [],
   "source": [
    "submission.Pawpularity = test[['preds_'+str(i) for i in range(7)]].mean(axis=1)\n",
    "submission.to_csv('submission.csv', index = False)\n",
    "submission.head()"
   ]
  }
 ],
 "metadata": {
  "interpreter": {
   "hash": "d4d1e4263499bec80672ea0156c357c1ee493ec2b1c70f0acce89fc37c4a6abe"
  },
  "kernelspec": {
   "display_name": "Python 3.7.12 ('base')",
   "language": "python",
   "name": "python3"
  },
  "language_info": {
   "name": "python",
   "version": "3.7.12"
  },
  "orig_nbformat": 4
 },
 "nbformat": 4,
 "nbformat_minor": 2
}
